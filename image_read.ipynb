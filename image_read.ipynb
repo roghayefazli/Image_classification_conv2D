{
 "cells": [
  {
   "cell_type": "code",
   "execution_count": 2,
   "id": "3a29ef8c",
   "metadata": {},
   "outputs": [],
   "source": [
    "import cv2\n",
    "import joblib"
   ]
  },
  {
   "cell_type": "code",
   "execution_count": null,
   "id": "7cdd724e",
   "metadata": {},
   "outputs": [],
   "source": [
    "new_mlp = joblib.load('mlp_network.joblib')"
   ]
  }
 ],
 "metadata": {
  "kernelspec": {
   "display_name": "Python 3 (ipykernel)",
   "language": "python",
   "name": "python3"
  },
  "language_info": {
   "codemirror_mode": {
    "name": "ipython",
    "version": 3
   },
   "file_extension": ".py",
   "mimetype": "text/x-python",
   "name": "python",
   "nbconvert_exporter": "python",
   "pygments_lexer": "ipython3",
   "version": "3.10.12"
  }
 },
 "nbformat": 4,
 "nbformat_minor": 5
}
