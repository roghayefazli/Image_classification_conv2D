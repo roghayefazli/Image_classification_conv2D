{
  "cells": [
    {
      "cell_type": "markdown",
      "metadata": {
        "id": "view-in-github",
        "colab_type": "text"
      },
      "source": [
        "<a href=\"https://colab.research.google.com/github/roghayefazli/Image_classification_conv2D/blob/main/conv2D.ipynb\" target=\"_parent\"><img src=\"https://colab.research.google.com/assets/colab-badge.svg\" alt=\"Open In Colab\"/></a>"
      ]
    },
    {
      "cell_type": "code",
      "execution_count": 25,
      "id": "d6407a6a",
      "metadata": {
        "scrolled": true,
        "id": "d6407a6a"
      },
      "outputs": [],
      "source": [
        "import numpy as np\n",
        "import pandas as pd\n",
        "import matplotlib.pyplot as plt\n",
        "from tensorflow.keras.preprocessing.image import ImageDataGenerator\n",
        "from tensorflow.keras.models import Sequential\n",
        "from tensorflow.keras.layers import Conv2D, MaxPool2D, Flatten, Dense\n",
        "from tensorflow.keras.callbacks import EarlyStopping, ReduceLROnPlateau\n",
        "from tensorflow.keras.utils import plot_model\n",
        "from sklearn.utils.class_weight import compute_class_weight\n",
        "from tensorflow.keras.callbacks import ModelCheckpoint"
      ]
    },
    {
      "cell_type": "code",
      "execution_count": 26,
      "id": "82051ea9",
      "metadata": {
        "id": "82051ea9"
      },
      "outputs": [],
      "source": [
        "image_generator = ImageDataGenerator(\n",
        "    rescale=1./255.,\n",
        "    shear_range=0.1,\n",
        "    zoom_range=0.3,\n",
        ")\n",
        "image_generator_test = ImageDataGenerator(\n",
        "    rescale=1./255.\n",
        ")"
      ]
    },
    {
      "cell_type": "code",
      "source": [
        "from google.colab import drive\n",
        "drive.mount('/content/drive')"
      ],
      "metadata": {
        "colab": {
          "base_uri": "https://localhost:8080/"
        },
        "id": "kwI3Ca2ci9j7",
        "outputId": "aa0476d9-f9f5-45d9-dd6c-1cbc2ba0b3cf"
      },
      "id": "kwI3Ca2ci9j7",
      "execution_count": 27,
      "outputs": [
        {
          "output_type": "stream",
          "name": "stdout",
          "text": [
            "Drive already mounted at /content/drive; to attempt to forcibly remount, call drive.mount(\"/content/drive\", force_remount=True).\n"
          ]
        }
      ]
    },
    {
      "cell_type": "code",
      "execution_count": 28,
      "id": "65adde50",
      "metadata": {
        "colab": {
          "base_uri": "https://localhost:8080/"
        },
        "id": "65adde50",
        "outputId": "fdb4fdf3-3643-417e-8b08-e4d2995f88e7"
      },
      "outputs": [
        {
          "output_type": "stream",
          "name": "stdout",
          "text": [
            "Found 132 images belonging to 8 classes.\n"
          ]
        }
      ],
      "source": [
        "train_data = image_generator.flow_from_directory(\n",
        "    '/content/drive/MyDrive/test_project/Data',\n",
        "    target_size=(250, 230),\n",
        "    color_mode='grayscale',\n",
        "    class_mode='categorical',\n",
        "    batch_size=50\n",
        ")"
      ]
    },
    {
      "cell_type": "code",
      "execution_count": 29,
      "id": "8d0ed531",
      "metadata": {
        "colab": {
          "base_uri": "https://localhost:8080/"
        },
        "id": "8d0ed531",
        "outputId": "0d9cc0c0-5307-4144-e84e-87808a8491ac"
      },
      "outputs": [
        {
          "output_type": "stream",
          "name": "stdout",
          "text": [
            "Found 42 images belonging to 8 classes.\n"
          ]
        }
      ],
      "source": [
        "test_data = image_generator_test.flow_from_directory(\n",
        "    '/content/drive/MyDrive/test_project/Data_test',\n",
        "    target_size=(250, 230),\n",
        "    color_mode='grayscale',\n",
        "    class_mode='categorical',\n",
        "    batch_size=50\n",
        ")"
      ]
    },
    {
      "cell_type": "code",
      "execution_count": 30,
      "id": "55a52785",
      "metadata": {
        "colab": {
          "base_uri": "https://localhost:8080/"
        },
        "id": "55a52785",
        "outputId": "4b146ff1-5c49-4867-a27b-394bdb301bc9"
      },
      "outputs": [
        {
          "output_type": "execute_result",
          "data": {
            "text/plain": [
              "<keras.src.legacy.preprocessing.image.DirectoryIterator at 0x7b4210031890>"
            ]
          },
          "metadata": {},
          "execution_count": 30
        }
      ],
      "source": [
        "test_data"
      ]
    },
    {
      "cell_type": "code",
      "execution_count": 31,
      "id": "66790f3c",
      "metadata": {
        "id": "66790f3c"
      },
      "outputs": [],
      "source": [
        "from tensorflow.keras.models import Sequential\n",
        "from tensorflow.keras.callbacks import TensorBoard\n",
        "from tensorflow.keras.layers import Input,Dense,Flatten,Dropout,Activation,Conv2D,MaxPooling2D"
      ]
    },
    {
      "cell_type": "code",
      "execution_count": 32,
      "id": "77345648",
      "metadata": {
        "id": "77345648"
      },
      "outputs": [],
      "source": [
        "model = Sequential()\n",
        "model.add(Conv2D(32, (3, 3), activation='relu',input_shape = (250,230,1)))\n",
        "model.add(MaxPool2D(pool_size=(2, 2)))\n",
        "model.add(Conv2D(32, (3, 3), activation='relu'))\n",
        "model.add(MaxPool2D(pool_size=(2, 2)))\n",
        "model.add(Conv2D(64, (3, 3), activation='relu'))\n",
        "model.add(MaxPool2D(pool_size=(2, 2)))\n",
        "model.add(Conv2D(64, (3, 3), activation='relu'))\n",
        "model.add(MaxPool2D(pool_size=(2, 2)))\n",
        "model.add(Flatten())\n",
        "# model.add(Dense(128, activation='relu'))\n",
        "model.add(Dense(64, activation='relu'))\n",
        "model.add(Dense(8, activation='softmax'))"
      ]
    },
    {
      "cell_type": "code",
      "execution_count": 33,
      "id": "6b3e22b1",
      "metadata": {
        "id": "6b3e22b1"
      },
      "outputs": [],
      "source": [
        "model.compile(optimizer='adam', loss='binary_crossentropy', metrics=['accuracy'])"
      ]
    },
    {
      "cell_type": "code",
      "execution_count": 34,
      "id": "ce0e174d",
      "metadata": {
        "colab": {
          "base_uri": "https://localhost:8080/",
          "height": 481
        },
        "id": "ce0e174d",
        "outputId": "6c4b3198-a5b0-464b-cb55-d6d985640eb5"
      },
      "outputs": [
        {
          "output_type": "display_data",
          "data": {
            "text/plain": [
              "\u001b[1mModel: \"sequential_1\"\u001b[0m\n"
            ],
            "text/html": [
              "<pre style=\"white-space:pre;overflow-x:auto;line-height:normal;font-family:Menlo,'DejaVu Sans Mono',consolas,'Courier New',monospace\"><span style=\"font-weight: bold\">Model: \"sequential_1\"</span>\n",
              "</pre>\n"
            ]
          },
          "metadata": {}
        },
        {
          "output_type": "display_data",
          "data": {
            "text/plain": [
              "┏━━━━━━━━━━━━━━━━━━━━━━━━━━━━━━━━━┳━━━━━━━━━━━━━━━━━━━━━━━━┳━━━━━━━━━━━━━━━┓\n",
              "┃\u001b[1m \u001b[0m\u001b[1mLayer (type)                   \u001b[0m\u001b[1m \u001b[0m┃\u001b[1m \u001b[0m\u001b[1mOutput Shape          \u001b[0m\u001b[1m \u001b[0m┃\u001b[1m \u001b[0m\u001b[1m      Param #\u001b[0m\u001b[1m \u001b[0m┃\n",
              "┡━━━━━━━━━━━━━━━━━━━━━━━━━━━━━━━━━╇━━━━━━━━━━━━━━━━━━━━━━━━╇━━━━━━━━━━━━━━━┩\n",
              "│ conv2d_4 (\u001b[38;5;33mConv2D\u001b[0m)               │ (\u001b[38;5;45mNone\u001b[0m, \u001b[38;5;34m248\u001b[0m, \u001b[38;5;34m228\u001b[0m, \u001b[38;5;34m32\u001b[0m)   │           \u001b[38;5;34m320\u001b[0m │\n",
              "├─────────────────────────────────┼────────────────────────┼───────────────┤\n",
              "│ max_pooling2d_4 (\u001b[38;5;33mMaxPooling2D\u001b[0m)  │ (\u001b[38;5;45mNone\u001b[0m, \u001b[38;5;34m124\u001b[0m, \u001b[38;5;34m114\u001b[0m, \u001b[38;5;34m32\u001b[0m)   │             \u001b[38;5;34m0\u001b[0m │\n",
              "├─────────────────────────────────┼────────────────────────┼───────────────┤\n",
              "│ conv2d_5 (\u001b[38;5;33mConv2D\u001b[0m)               │ (\u001b[38;5;45mNone\u001b[0m, \u001b[38;5;34m122\u001b[0m, \u001b[38;5;34m112\u001b[0m, \u001b[38;5;34m32\u001b[0m)   │         \u001b[38;5;34m9,248\u001b[0m │\n",
              "├─────────────────────────────────┼────────────────────────┼───────────────┤\n",
              "│ max_pooling2d_5 (\u001b[38;5;33mMaxPooling2D\u001b[0m)  │ (\u001b[38;5;45mNone\u001b[0m, \u001b[38;5;34m61\u001b[0m, \u001b[38;5;34m56\u001b[0m, \u001b[38;5;34m32\u001b[0m)     │             \u001b[38;5;34m0\u001b[0m │\n",
              "├─────────────────────────────────┼────────────────────────┼───────────────┤\n",
              "│ conv2d_6 (\u001b[38;5;33mConv2D\u001b[0m)               │ (\u001b[38;5;45mNone\u001b[0m, \u001b[38;5;34m59\u001b[0m, \u001b[38;5;34m54\u001b[0m, \u001b[38;5;34m64\u001b[0m)     │        \u001b[38;5;34m18,496\u001b[0m │\n",
              "├─────────────────────────────────┼────────────────────────┼───────────────┤\n",
              "│ max_pooling2d_6 (\u001b[38;5;33mMaxPooling2D\u001b[0m)  │ (\u001b[38;5;45mNone\u001b[0m, \u001b[38;5;34m29\u001b[0m, \u001b[38;5;34m27\u001b[0m, \u001b[38;5;34m64\u001b[0m)     │             \u001b[38;5;34m0\u001b[0m │\n",
              "├─────────────────────────────────┼────────────────────────┼───────────────┤\n",
              "│ conv2d_7 (\u001b[38;5;33mConv2D\u001b[0m)               │ (\u001b[38;5;45mNone\u001b[0m, \u001b[38;5;34m27\u001b[0m, \u001b[38;5;34m25\u001b[0m, \u001b[38;5;34m64\u001b[0m)     │        \u001b[38;5;34m36,928\u001b[0m │\n",
              "├─────────────────────────────────┼────────────────────────┼───────────────┤\n",
              "│ max_pooling2d_7 (\u001b[38;5;33mMaxPooling2D\u001b[0m)  │ (\u001b[38;5;45mNone\u001b[0m, \u001b[38;5;34m13\u001b[0m, \u001b[38;5;34m12\u001b[0m, \u001b[38;5;34m64\u001b[0m)     │             \u001b[38;5;34m0\u001b[0m │\n",
              "├─────────────────────────────────┼────────────────────────┼───────────────┤\n",
              "│ flatten_1 (\u001b[38;5;33mFlatten\u001b[0m)             │ (\u001b[38;5;45mNone\u001b[0m, \u001b[38;5;34m9984\u001b[0m)           │             \u001b[38;5;34m0\u001b[0m │\n",
              "├─────────────────────────────────┼────────────────────────┼───────────────┤\n",
              "│ dense_2 (\u001b[38;5;33mDense\u001b[0m)                 │ (\u001b[38;5;45mNone\u001b[0m, \u001b[38;5;34m64\u001b[0m)             │       \u001b[38;5;34m639,040\u001b[0m │\n",
              "├─────────────────────────────────┼────────────────────────┼───────────────┤\n",
              "│ dense_3 (\u001b[38;5;33mDense\u001b[0m)                 │ (\u001b[38;5;45mNone\u001b[0m, \u001b[38;5;34m8\u001b[0m)              │           \u001b[38;5;34m520\u001b[0m │\n",
              "└─────────────────────────────────┴────────────────────────┴───────────────┘\n"
            ],
            "text/html": [
              "<pre style=\"white-space:pre;overflow-x:auto;line-height:normal;font-family:Menlo,'DejaVu Sans Mono',consolas,'Courier New',monospace\">┏━━━━━━━━━━━━━━━━━━━━━━━━━━━━━━━━━┳━━━━━━━━━━━━━━━━━━━━━━━━┳━━━━━━━━━━━━━━━┓\n",
              "┃<span style=\"font-weight: bold\"> Layer (type)                    </span>┃<span style=\"font-weight: bold\"> Output Shape           </span>┃<span style=\"font-weight: bold\">       Param # </span>┃\n",
              "┡━━━━━━━━━━━━━━━━━━━━━━━━━━━━━━━━━╇━━━━━━━━━━━━━━━━━━━━━━━━╇━━━━━━━━━━━━━━━┩\n",
              "│ conv2d_4 (<span style=\"color: #0087ff; text-decoration-color: #0087ff\">Conv2D</span>)               │ (<span style=\"color: #00d7ff; text-decoration-color: #00d7ff\">None</span>, <span style=\"color: #00af00; text-decoration-color: #00af00\">248</span>, <span style=\"color: #00af00; text-decoration-color: #00af00\">228</span>, <span style=\"color: #00af00; text-decoration-color: #00af00\">32</span>)   │           <span style=\"color: #00af00; text-decoration-color: #00af00\">320</span> │\n",
              "├─────────────────────────────────┼────────────────────────┼───────────────┤\n",
              "│ max_pooling2d_4 (<span style=\"color: #0087ff; text-decoration-color: #0087ff\">MaxPooling2D</span>)  │ (<span style=\"color: #00d7ff; text-decoration-color: #00d7ff\">None</span>, <span style=\"color: #00af00; text-decoration-color: #00af00\">124</span>, <span style=\"color: #00af00; text-decoration-color: #00af00\">114</span>, <span style=\"color: #00af00; text-decoration-color: #00af00\">32</span>)   │             <span style=\"color: #00af00; text-decoration-color: #00af00\">0</span> │\n",
              "├─────────────────────────────────┼────────────────────────┼───────────────┤\n",
              "│ conv2d_5 (<span style=\"color: #0087ff; text-decoration-color: #0087ff\">Conv2D</span>)               │ (<span style=\"color: #00d7ff; text-decoration-color: #00d7ff\">None</span>, <span style=\"color: #00af00; text-decoration-color: #00af00\">122</span>, <span style=\"color: #00af00; text-decoration-color: #00af00\">112</span>, <span style=\"color: #00af00; text-decoration-color: #00af00\">32</span>)   │         <span style=\"color: #00af00; text-decoration-color: #00af00\">9,248</span> │\n",
              "├─────────────────────────────────┼────────────────────────┼───────────────┤\n",
              "│ max_pooling2d_5 (<span style=\"color: #0087ff; text-decoration-color: #0087ff\">MaxPooling2D</span>)  │ (<span style=\"color: #00d7ff; text-decoration-color: #00d7ff\">None</span>, <span style=\"color: #00af00; text-decoration-color: #00af00\">61</span>, <span style=\"color: #00af00; text-decoration-color: #00af00\">56</span>, <span style=\"color: #00af00; text-decoration-color: #00af00\">32</span>)     │             <span style=\"color: #00af00; text-decoration-color: #00af00\">0</span> │\n",
              "├─────────────────────────────────┼────────────────────────┼───────────────┤\n",
              "│ conv2d_6 (<span style=\"color: #0087ff; text-decoration-color: #0087ff\">Conv2D</span>)               │ (<span style=\"color: #00d7ff; text-decoration-color: #00d7ff\">None</span>, <span style=\"color: #00af00; text-decoration-color: #00af00\">59</span>, <span style=\"color: #00af00; text-decoration-color: #00af00\">54</span>, <span style=\"color: #00af00; text-decoration-color: #00af00\">64</span>)     │        <span style=\"color: #00af00; text-decoration-color: #00af00\">18,496</span> │\n",
              "├─────────────────────────────────┼────────────────────────┼───────────────┤\n",
              "│ max_pooling2d_6 (<span style=\"color: #0087ff; text-decoration-color: #0087ff\">MaxPooling2D</span>)  │ (<span style=\"color: #00d7ff; text-decoration-color: #00d7ff\">None</span>, <span style=\"color: #00af00; text-decoration-color: #00af00\">29</span>, <span style=\"color: #00af00; text-decoration-color: #00af00\">27</span>, <span style=\"color: #00af00; text-decoration-color: #00af00\">64</span>)     │             <span style=\"color: #00af00; text-decoration-color: #00af00\">0</span> │\n",
              "├─────────────────────────────────┼────────────────────────┼───────────────┤\n",
              "│ conv2d_7 (<span style=\"color: #0087ff; text-decoration-color: #0087ff\">Conv2D</span>)               │ (<span style=\"color: #00d7ff; text-decoration-color: #00d7ff\">None</span>, <span style=\"color: #00af00; text-decoration-color: #00af00\">27</span>, <span style=\"color: #00af00; text-decoration-color: #00af00\">25</span>, <span style=\"color: #00af00; text-decoration-color: #00af00\">64</span>)     │        <span style=\"color: #00af00; text-decoration-color: #00af00\">36,928</span> │\n",
              "├─────────────────────────────────┼────────────────────────┼───────────────┤\n",
              "│ max_pooling2d_7 (<span style=\"color: #0087ff; text-decoration-color: #0087ff\">MaxPooling2D</span>)  │ (<span style=\"color: #00d7ff; text-decoration-color: #00d7ff\">None</span>, <span style=\"color: #00af00; text-decoration-color: #00af00\">13</span>, <span style=\"color: #00af00; text-decoration-color: #00af00\">12</span>, <span style=\"color: #00af00; text-decoration-color: #00af00\">64</span>)     │             <span style=\"color: #00af00; text-decoration-color: #00af00\">0</span> │\n",
              "├─────────────────────────────────┼────────────────────────┼───────────────┤\n",
              "│ flatten_1 (<span style=\"color: #0087ff; text-decoration-color: #0087ff\">Flatten</span>)             │ (<span style=\"color: #00d7ff; text-decoration-color: #00d7ff\">None</span>, <span style=\"color: #00af00; text-decoration-color: #00af00\">9984</span>)           │             <span style=\"color: #00af00; text-decoration-color: #00af00\">0</span> │\n",
              "├─────────────────────────────────┼────────────────────────┼───────────────┤\n",
              "│ dense_2 (<span style=\"color: #0087ff; text-decoration-color: #0087ff\">Dense</span>)                 │ (<span style=\"color: #00d7ff; text-decoration-color: #00d7ff\">None</span>, <span style=\"color: #00af00; text-decoration-color: #00af00\">64</span>)             │       <span style=\"color: #00af00; text-decoration-color: #00af00\">639,040</span> │\n",
              "├─────────────────────────────────┼────────────────────────┼───────────────┤\n",
              "│ dense_3 (<span style=\"color: #0087ff; text-decoration-color: #0087ff\">Dense</span>)                 │ (<span style=\"color: #00d7ff; text-decoration-color: #00d7ff\">None</span>, <span style=\"color: #00af00; text-decoration-color: #00af00\">8</span>)              │           <span style=\"color: #00af00; text-decoration-color: #00af00\">520</span> │\n",
              "└─────────────────────────────────┴────────────────────────┴───────────────┘\n",
              "</pre>\n"
            ]
          },
          "metadata": {}
        },
        {
          "output_type": "display_data",
          "data": {
            "text/plain": [
              "\u001b[1m Total params: \u001b[0m\u001b[38;5;34m704,552\u001b[0m (2.69 MB)\n"
            ],
            "text/html": [
              "<pre style=\"white-space:pre;overflow-x:auto;line-height:normal;font-family:Menlo,'DejaVu Sans Mono',consolas,'Courier New',monospace\"><span style=\"font-weight: bold\"> Total params: </span><span style=\"color: #00af00; text-decoration-color: #00af00\">704,552</span> (2.69 MB)\n",
              "</pre>\n"
            ]
          },
          "metadata": {}
        },
        {
          "output_type": "display_data",
          "data": {
            "text/plain": [
              "\u001b[1m Trainable params: \u001b[0m\u001b[38;5;34m704,552\u001b[0m (2.69 MB)\n"
            ],
            "text/html": [
              "<pre style=\"white-space:pre;overflow-x:auto;line-height:normal;font-family:Menlo,'DejaVu Sans Mono',consolas,'Courier New',monospace\"><span style=\"font-weight: bold\"> Trainable params: </span><span style=\"color: #00af00; text-decoration-color: #00af00\">704,552</span> (2.69 MB)\n",
              "</pre>\n"
            ]
          },
          "metadata": {}
        },
        {
          "output_type": "display_data",
          "data": {
            "text/plain": [
              "\u001b[1m Non-trainable params: \u001b[0m\u001b[38;5;34m0\u001b[0m (0.00 B)\n"
            ],
            "text/html": [
              "<pre style=\"white-space:pre;overflow-x:auto;line-height:normal;font-family:Menlo,'DejaVu Sans Mono',consolas,'Courier New',monospace\"><span style=\"font-weight: bold\"> Non-trainable params: </span><span style=\"color: #00af00; text-decoration-color: #00af00\">0</span> (0.00 B)\n",
              "</pre>\n"
            ]
          },
          "metadata": {}
        }
      ],
      "source": [
        "model.summary()"
      ]
    },
    {
      "cell_type": "code",
      "execution_count": 35,
      "id": "779de9a2",
      "metadata": {
        "colab": {
          "base_uri": "https://localhost:8080/"
        },
        "id": "779de9a2",
        "outputId": "28d94da8-b622-457a-e3e1-3db59d656705"
      },
      "outputs": [
        {
          "output_type": "execute_result",
          "data": {
            "text/plain": [
              "array([0, 0, 0, 0, 0, 0, 0, 0, 0, 0, 0, 0, 0, 0, 0, 0, 0, 0, 0, 0, 0, 1,\n",
              "       1, 1, 1, 1, 1, 1, 1, 1, 1, 1, 1, 1, 1, 1, 1, 1, 1, 1, 1, 1, 2, 2,\n",
              "       2, 2, 2, 2, 2, 2, 2, 2, 2, 2, 2, 2, 2, 2, 2, 2, 2, 2, 3, 3, 3, 3,\n",
              "       3, 4, 4, 4, 4, 4, 5, 5, 5, 5, 5, 5, 5, 5, 5, 5, 5, 5, 5, 5, 5, 5,\n",
              "       5, 5, 5, 5, 6, 6, 6, 6, 6, 6, 6, 6, 6, 6, 6, 6, 6, 6, 6, 6, 6, 6,\n",
              "       6, 6, 7, 7, 7, 7, 7, 7, 7, 7, 7, 7, 7, 7, 7, 7, 7, 7, 7, 7, 7, 7],\n",
              "      dtype=int32)"
            ]
          },
          "metadata": {},
          "execution_count": 35
        }
      ],
      "source": [
        "train_data.classes"
      ]
    },
    {
      "cell_type": "code",
      "execution_count": 36,
      "id": "b807ce4a",
      "metadata": {
        "id": "b807ce4a"
      },
      "outputs": [],
      "source": [
        "es = EarlyStopping(monitor='val_loss', mode='min', patience=3)\n",
        "rlrop = ReduceLROnPlateau(monitor='val_loss', patience=2, factor=0.2, min_lr=0.001)"
      ]
    },
    {
      "cell_type": "code",
      "execution_count": 37,
      "id": "0db4498c",
      "metadata": {
        "id": "0db4498c"
      },
      "outputs": [],
      "source": [
        "mch = ModelCheckpoint('hospital.keras', monitor='val_loss', mode='min', save_best_only=True)"
      ]
    },
    {
      "cell_type": "code",
      "execution_count": 38,
      "id": "28c7e91a",
      "metadata": {
        "colab": {
          "base_uri": "https://localhost:8080/"
        },
        "id": "28c7e91a",
        "outputId": "7583e912-393e-4f42-d9ff-9fa940598bad"
      },
      "outputs": [
        {
          "metadata": {
            "tags": null
          },
          "name": "stdout",
          "output_type": "stream",
          "text": [
            "Epoch 1/30\n",
            "\u001b[1m3/3\u001b[0m \u001b[32m━━━━━━━━━━━━━━━━━━━━\u001b[0m\u001b[37m\u001b[0m \u001b[1m11s\u001b[0m 2s/step - accuracy: 0.0980 - loss: 0.6490\n",
            "Epoch 2/30\n",
            "\u001b[1m3/3\u001b[0m \u001b[32m━━━━━━━━━━━━━━━━━━━━\u001b[0m\u001b[37m\u001b[0m \u001b[1m4s\u001b[0m 1s/step - accuracy: 0.1618 - loss: 0.4110\n",
            "Epoch 3/30\n",
            "\u001b[1m3/3\u001b[0m \u001b[32m━━━━━━━━━━━━━━━━━━━━\u001b[0m\u001b[37m\u001b[0m \u001b[1m4s\u001b[0m 1s/step - accuracy: 0.1606 - loss: 0.3857\n",
            "Epoch 4/30\n",
            "\u001b[1m3/3\u001b[0m \u001b[32m━━━━━━━━━━━━━━━━━━━━\u001b[0m\u001b[37m\u001b[0m \u001b[1m4s\u001b[0m 1s/step - accuracy: 0.0994 - loss: 0.3805\n",
            "Epoch 5/30\n",
            "\u001b[1m3/3\u001b[0m \u001b[32m━━━━━━━━━━━━━━━━━━━━\u001b[0m\u001b[37m\u001b[0m \u001b[1m4s\u001b[0m 1s/step - accuracy: 0.1760 - loss: 0.3707\n",
            "Epoch 6/30\n",
            "\u001b[1m3/3\u001b[0m \u001b[32m━━━━━━━━━━━━━━━━━━━━\u001b[0m\u001b[37m\u001b[0m \u001b[1m4s\u001b[0m 1s/step - accuracy: 0.0982 - loss: 0.3693\n",
            "Epoch 7/30\n",
            "\u001b[1m3/3\u001b[0m \u001b[32m━━━━━━━━━━━━━━━━━━━━\u001b[0m\u001b[37m\u001b[0m \u001b[1m4s\u001b[0m 1s/step - accuracy: 0.1405 - loss: 0.3658\n",
            "Epoch 8/30\n",
            "\u001b[1m3/3\u001b[0m \u001b[32m━━━━━━━━━━━━━━━━━━━━\u001b[0m\u001b[37m\u001b[0m \u001b[1m5s\u001b[0m 1s/step - accuracy: 0.1595 - loss: 0.3616\n",
            "Epoch 9/30\n",
            "\u001b[1m3/3\u001b[0m \u001b[32m━━━━━━━━━━━━━━━━━━━━\u001b[0m\u001b[37m\u001b[0m \u001b[1m4s\u001b[0m 1s/step - accuracy: 0.1535 - loss: 0.3618\n",
            "Epoch 10/30\n",
            "\u001b[1m3/3\u001b[0m \u001b[32m━━━━━━━━━━━━━━━━━━━━\u001b[0m\u001b[37m\u001b[0m \u001b[1m4s\u001b[0m 2s/step - accuracy: 0.2275 - loss: 0.3598\n",
            "Epoch 11/30\n",
            "\u001b[1m3/3\u001b[0m \u001b[32m━━━━━━━━━━━━━━━━━━━━\u001b[0m\u001b[37m\u001b[0m \u001b[1m5s\u001b[0m 1s/step - accuracy: 0.2529 - loss: 0.3625\n",
            "Epoch 12/30\n",
            "\u001b[1m3/3\u001b[0m \u001b[32m━━━━━━━━━━━━━━━━━━━━\u001b[0m\u001b[37m\u001b[0m \u001b[1m4s\u001b[0m 1s/step - accuracy: 0.2989 - loss: 0.3598\n",
            "Epoch 13/30\n",
            "\u001b[1m3/3\u001b[0m \u001b[32m━━━━━━━━━━━━━━━━━━━━\u001b[0m\u001b[37m\u001b[0m \u001b[1m4s\u001b[0m 1s/step - accuracy: 0.2442 - loss: 0.3577\n",
            "Epoch 14/30\n",
            "\u001b[1m3/3\u001b[0m \u001b[32m━━━━━━━━━━━━━━━━━━━━\u001b[0m\u001b[37m\u001b[0m \u001b[1m4s\u001b[0m 1s/step - accuracy: 0.2376 - loss: 0.3576\n",
            "Epoch 15/30\n",
            "\u001b[1m3/3\u001b[0m \u001b[32m━━━━━━━━━━━━━━━━━━━━\u001b[0m\u001b[37m\u001b[0m \u001b[1m4s\u001b[0m 1s/step - accuracy: 0.2569 - loss: 0.3493\n",
            "Epoch 16/30\n",
            "\u001b[1m3/3\u001b[0m \u001b[32m━━━━━━━━━━━━━━━━━━━━\u001b[0m\u001b[37m\u001b[0m \u001b[1m4s\u001b[0m 1s/step - accuracy: 0.3478 - loss: 0.3384\n",
            "Epoch 17/30\n",
            "\u001b[1m3/3\u001b[0m \u001b[32m━━━━━━━━━━━━━━━━━━━━\u001b[0m\u001b[37m\u001b[0m \u001b[1m5s\u001b[0m 1s/step - accuracy: 0.4548 - loss: 0.3204\n",
            "Epoch 18/30\n",
            "\u001b[1m3/3\u001b[0m \u001b[32m━━━━━━━━━━━━━━━━━━━━\u001b[0m\u001b[37m\u001b[0m \u001b[1m4s\u001b[0m 1s/step - accuracy: 0.4284 - loss: 0.3069\n",
            "Epoch 19/30\n",
            "\u001b[1m3/3\u001b[0m \u001b[32m━━━━━━━━━━━━━━━━━━━━\u001b[0m\u001b[37m\u001b[0m \u001b[1m4s\u001b[0m 1s/step - accuracy: 0.5460 - loss: 0.2993\n",
            "Epoch 20/30\n",
            "\u001b[1m3/3\u001b[0m \u001b[32m━━━━━━━━━━━━━━━━━━━━\u001b[0m\u001b[37m\u001b[0m \u001b[1m6s\u001b[0m 1s/step - accuracy: 0.5377 - loss: 0.2993\n",
            "Epoch 21/30\n",
            "\u001b[1m3/3\u001b[0m \u001b[32m━━━━━━━━━━━━━━━━━━━━\u001b[0m\u001b[37m\u001b[0m \u001b[1m4s\u001b[0m 1s/step - accuracy: 0.5716 - loss: 0.2751\n",
            "Epoch 22/30\n",
            "\u001b[1m3/3\u001b[0m \u001b[32m━━━━━━━━━━━━━━━━━━━━\u001b[0m\u001b[37m\u001b[0m \u001b[1m4s\u001b[0m 1s/step - accuracy: 0.6387 - loss: 0.2470\n",
            "Epoch 23/30\n",
            "\u001b[1m3/3\u001b[0m \u001b[32m━━━━━━━━━━━━━━━━━━━━\u001b[0m\u001b[37m\u001b[0m \u001b[1m4s\u001b[0m 1s/step - accuracy: 0.6416 - loss: 0.2419\n",
            "Epoch 24/30\n",
            "\u001b[1m3/3\u001b[0m \u001b[32m━━━━━━━━━━━━━━━━━━━━\u001b[0m\u001b[37m\u001b[0m \u001b[1m4s\u001b[0m 1s/step - accuracy: 0.6992 - loss: 0.1979\n",
            "Epoch 25/30\n",
            "\u001b[1m3/3\u001b[0m \u001b[32m━━━━━━━━━━━━━━━━━━━━\u001b[0m\u001b[37m\u001b[0m \u001b[1m4s\u001b[0m 1s/step - accuracy: 0.7003 - loss: 0.1945\n",
            "Epoch 26/30\n",
            "\u001b[1m3/3\u001b[0m \u001b[32m━━━━━━━━━━━━━━━━━━━━\u001b[0m\u001b[37m\u001b[0m \u001b[1m4s\u001b[0m 1s/step - accuracy: 0.7901 - loss: 0.1578\n",
            "Epoch 27/30\n",
            "\u001b[1m3/3\u001b[0m \u001b[32m━━━━━━━━━━━━━━━━━━━━\u001b[0m\u001b[37m\u001b[0m \u001b[1m5s\u001b[0m 1s/step - accuracy: 0.7895 - loss: 0.1540\n",
            "Epoch 28/30\n",
            "\u001b[1m3/3\u001b[0m \u001b[32m━━━━━━━━━━━━━━━━━━━━\u001b[0m\u001b[37m\u001b[0m \u001b[1m4s\u001b[0m 1s/step - accuracy: 0.8284 - loss: 0.1389\n",
            "Epoch 29/30\n",
            "\u001b[1m3/3\u001b[0m \u001b[32m━━━━━━━━━━━━━━━━━━━━\u001b[0m\u001b[37m\u001b[0m \u001b[1m4s\u001b[0m 1s/step - accuracy: 0.7646 - loss: 0.1331\n",
            "Epoch 30/30\n",
            "\u001b[1m3/3\u001b[0m \u001b[32m━━━━━━━━━━━━━━━━━━━━\u001b[0m\u001b[37m\u001b[0m \u001b[1m5s\u001b[0m 1s/step - accuracy: 0.8502 - loss: 0.1233\n"
          ]
        }
      ],
      "source": [
        "history = model.fit(train_data,epochs=30)"
      ]
    },
    {
      "cell_type": "code",
      "execution_count": 39,
      "id": "b2957dfb",
      "metadata": {
        "id": "b2957dfb",
        "colab": {
          "base_uri": "https://localhost:8080/"
        },
        "outputId": "aa75184a-1656-4836-8a08-5b179a1cc540"
      },
      "outputs": [
        {
          "metadata": {
            "tags": null
          },
          "name": "stdout",
          "output_type": "stream",
          "text": [
            "\u001b[1m1/1\u001b[0m \u001b[32m━━━━━━━━━━━━━━━━━━━━\u001b[0m\u001b[37m\u001b[0m \u001b[1m1s\u001b[0m 1s/step\n"
          ]
        }
      ],
      "source": [
        "r=model.predict(test_data)"
      ]
    },
    {
      "cell_type": "code",
      "execution_count": 40,
      "id": "c1ca0862",
      "metadata": {
        "id": "c1ca0862",
        "colab": {
          "base_uri": "https://localhost:8080/"
        },
        "outputId": "755c3f7b-6180-4268-d1c6-b48788169e16"
      },
      "outputs": [
        {
          "data": {
            "text/plain": [
              "array([[3.48334694e-08, 1.36135372e-06, 1.92512766e-06, 4.37059597e-08,\n",
              "        2.10115772e-07, 1.41864334e-08, 9.99994636e-01, 1.80000382e-06],\n",
              "       [6.78499418e-05, 9.88460183e-01, 1.06169134e-02, 1.31451670e-04,\n",
              "        1.59433012e-06, 4.38747011e-05, 6.46116445e-04, 3.20296349e-05],\n",
              "       [3.99151235e-04, 1.40980447e-07, 4.45013762e-01, 1.61098503e-02,\n",
              "        4.74398643e-01, 6.37902096e-02, 2.78918305e-04, 9.39398251e-06],\n",
              "       [4.40656684e-08, 1.00010951e-08, 4.41380680e-01, 1.56321835e-06,\n",
              "        2.19274607e-05, 1.30324988e-04, 1.00999443e-06, 5.58464468e-01],\n",
              "       [3.50391645e-07, 5.59195769e-07, 2.52336118e-04, 4.02454532e-07,\n",
              "        1.06206271e-05, 9.18397802e-09, 9.99733508e-01, 2.20938136e-06],\n",
              "       [9.96620772e-11, 8.75615580e-09, 3.75492914e-06, 1.50750132e-08,\n",
              "        3.53565822e-11, 4.40090986e-08, 4.84476992e-08, 9.99996185e-01],\n",
              "       [7.85472275e-06, 3.08377821e-08, 2.60080099e-01, 7.35175610e-01,\n",
              "        2.44547450e-03, 3.52243922e-04, 1.91954360e-03, 1.91316176e-05],\n",
              "       [1.61868869e-07, 4.14354195e-09, 5.67251742e-02, 6.34381501e-03,\n",
              "        1.64074777e-03, 8.91331613e-01, 5.57262065e-05, 4.39028256e-02],\n",
              "       [3.56055295e-07, 4.21656668e-11, 9.99995232e-01, 1.00100544e-06,\n",
              "        2.66952611e-06, 6.60391265e-07, 7.68861241e-08, 6.25273500e-10],\n",
              "       [7.36034644e-06, 7.51563675e-06, 9.93393004e-01, 9.57749959e-04,\n",
              "        1.79584452e-03, 1.03117971e-04, 3.58667481e-03, 1.48711231e-04],\n",
              "       [7.15774368e-05, 1.90383741e-06, 8.55766088e-02, 2.45377072e-03,\n",
              "        3.95322591e-01, 5.13036907e-01, 3.39130801e-03, 1.45382539e-04],\n",
              "       [9.99999523e-01, 2.82924839e-09, 3.88956956e-08, 1.62546226e-10,\n",
              "        1.61810121e-09, 2.69650741e-07, 1.83297033e-07, 2.81641288e-09],\n",
              "       [1.12998632e-05, 3.27539129e-09, 3.43865119e-02, 1.07382494e-03,\n",
              "        7.12553225e-03, 9.57244039e-01, 5.51505836e-05, 1.03753373e-04],\n",
              "       [9.99999881e-01, 3.01108379e-12, 6.29965680e-09, 1.41546471e-11,\n",
              "        2.50863164e-10, 6.39191242e-08, 2.92064106e-09, 2.34421083e-09],\n",
              "       [5.84837835e-07, 9.99996543e-01, 2.27599958e-06, 6.74851748e-08,\n",
              "        2.39965894e-11, 8.54429061e-09, 4.72281499e-07, 1.97110861e-09],\n",
              "       [2.06658129e-07, 1.33031819e-09, 9.99999523e-01, 7.35235801e-08,\n",
              "        6.90391175e-08, 1.04502007e-08, 1.44279142e-07, 1.05934497e-08],\n",
              "       [9.99998808e-01, 3.33295027e-08, 1.65533596e-08, 4.04581729e-10,\n",
              "        1.23603450e-09, 4.77693902e-07, 6.83102996e-07, 6.93515190e-10],\n",
              "       [2.19326421e-06, 2.71078360e-09, 9.99687493e-01, 2.05126639e-06,\n",
              "        1.65837318e-05, 1.31561464e-07, 2.91490636e-04, 5.34485078e-09],\n",
              "       [3.72272879e-08, 3.35067807e-10, 1.29782602e-01, 6.87987208e-01,\n",
              "        2.00798409e-03, 1.79637596e-01, 2.45187721e-07, 5.84358349e-04],\n",
              "       [9.21280953e-05, 6.91362438e-05, 2.69710310e-02, 8.03203166e-01,\n",
              "        4.79446445e-03, 1.57321572e-01, 7.54847238e-03, 3.29985483e-09],\n",
              "       [3.56539931e-09, 9.99632239e-01, 3.67120345e-04, 7.81290339e-08,\n",
              "        5.24948834e-12, 2.11388018e-09, 5.20170431e-07, 9.44503054e-09],\n",
              "       [5.23548992e-03, 1.01674550e-05, 1.09030691e-03, 2.86430237e-04,\n",
              "        3.53848599e-02, 2.27466434e-01, 7.30483532e-01, 4.28236926e-05],\n",
              "       [1.31926129e-06, 9.99947667e-01, 3.72487521e-05, 3.04099110e-08,\n",
              "        5.77901685e-11, 3.66179309e-09, 1.37660272e-05, 1.18090782e-08],\n",
              "       [6.58010777e-06, 1.85597790e-04, 9.15669277e-02, 7.82662304e-04,\n",
              "        1.16455235e-01, 7.17325555e-03, 6.69157147e-01, 1.14672631e-01],\n",
              "       [8.04784766e-04, 3.38648692e-06, 3.37238014e-02, 9.03239357e-04,\n",
              "        4.23978746e-01, 2.94508442e-04, 5.39904714e-01, 3.86848755e-04],\n",
              "       [1.92725238e-07, 4.47278853e-06, 2.72676942e-07, 1.45987054e-08,\n",
              "        1.23124735e-07, 1.61979807e-09, 9.99994874e-01, 4.55986218e-08],\n",
              "       [2.87602888e-04, 2.52377095e-06, 1.98742725e-07, 6.45332410e-09,\n",
              "        1.93535868e-07, 6.19252372e-10, 9.99708951e-01, 4.08391429e-07],\n",
              "       [9.55094039e-01, 1.27369582e-08, 1.18810320e-02, 2.67188636e-08,\n",
              "        2.01909243e-05, 1.71756055e-05, 7.62184383e-04, 3.22253741e-02],\n",
              "       [1.71655696e-02, 6.57851524e-06, 2.42988914e-01, 1.64547135e-04,\n",
              "        1.53609753e-01, 4.26262181e-04, 5.84076464e-01, 1.56199583e-03],\n",
              "       [1.84146833e-04, 4.30134605e-06, 9.04755492e-04, 7.66869247e-01,\n",
              "        9.54843499e-03, 1.98804229e-01, 1.46282529e-02, 9.05655045e-03],\n",
              "       [1.56080364e-06, 3.34161194e-03, 2.13556811e-01, 7.34098911e-01,\n",
              "        1.61249272e-03, 1.11977868e-02, 3.61718312e-02, 1.89921902e-05],\n",
              "       [5.96692786e-04, 6.77846256e-05, 9.27441940e-02, 3.59141013e-05,\n",
              "        1.46388600e-03, 3.09508899e-03, 3.86029631e-02, 8.63393545e-01],\n",
              "       [9.06992517e-03, 1.77105223e-11, 3.27775717e-01, 1.33224893e-02,\n",
              "        5.17177999e-01, 8.52815509e-02, 3.50211374e-02, 1.23510594e-02],\n",
              "       [4.92297318e-07, 9.99165356e-01, 8.31690151e-04, 1.11338345e-07,\n",
              "        4.56365674e-11, 1.22103359e-08, 2.14635361e-06, 9.24845907e-08],\n",
              "       [9.99998689e-01, 7.35000683e-09, 4.25248068e-08, 2.73031431e-10,\n",
              "        6.02778938e-10, 1.05589265e-06, 1.99463898e-07, 4.59129730e-08],\n",
              "       [5.51055593e-04, 1.11239018e-10, 5.80746114e-01, 5.99565275e-04,\n",
              "        3.26006979e-01, 1.77136976e-02, 3.15060541e-02, 4.28766161e-02],\n",
              "       [1.01754878e-04, 2.01694476e-07, 8.65652971e-03, 6.01601228e-03,\n",
              "        1.20500308e-02, 9.73135948e-01, 3.64379594e-05, 3.05704953e-06],\n",
              "       [2.79477808e-05, 7.69505641e-06, 6.00635976e-05, 4.71094199e-06,\n",
              "        5.90966283e-06, 3.63453729e-08, 9.99893665e-01, 6.66733224e-10],\n",
              "       [3.50354640e-07, 9.99989271e-01, 3.78671052e-06, 1.32290676e-08,\n",
              "        8.86406226e-12, 8.76867690e-10, 6.53460529e-06, 4.04134592e-09],\n",
              "       [1.77679886e-03, 9.11620438e-01, 3.93749157e-04, 2.48534917e-08,\n",
              "        1.34629946e-10, 3.90893717e-08, 3.41767743e-02, 5.20322435e-02],\n",
              "       [4.62018654e-08, 2.95692748e-10, 9.99999762e-01, 7.68647723e-08,\n",
              "        3.41005375e-08, 4.36574199e-09, 5.71099363e-08, 9.80725101e-09],\n",
              "       [9.99989390e-01, 2.63925642e-07, 2.07433217e-07, 3.59132807e-10,\n",
              "        5.14044851e-09, 9.10453218e-06, 9.36273466e-07, 1.31215643e-08]],\n",
              "      dtype=float32)"
            ]
          },
          "execution_count": 40,
          "metadata": {},
          "output_type": "execute_result"
        }
      ],
      "source": [
        "r"
      ]
    },
    {
      "cell_type": "code",
      "execution_count": 41,
      "id": "4ff07c70",
      "metadata": {
        "id": "4ff07c70",
        "colab": {
          "base_uri": "https://localhost:8080/"
        },
        "outputId": "054733a3-9cd5-48cd-9a1e-76a69cb68803"
      },
      "outputs": [
        {
          "metadata": {
            "tags": null
          },
          "name": "stderr",
          "output_type": "stream",
          "text": [
            "WARNING:absl:You are saving your model as an HDF5 file via `model.save()` or `keras.saving.save_model(model)`. This file format is considered legacy. We recommend using instead the native Keras format, e.g. `model.save('my_model.keras')` or `keras.saving.save_model(model, 'my_model.keras')`. \n"
          ]
        }
      ],
      "source": [
        "model.save('ImageCNN.h5')"
      ]
    },
    {
      "cell_type": "code",
      "execution_count": 42,
      "id": "785ceb36",
      "metadata": {
        "id": "785ceb36"
      },
      "outputs": [],
      "source": [
        "from tensorflow.keras.models import load_model"
      ]
    },
    {
      "cell_type": "code",
      "execution_count": 43,
      "id": "8a6e343d",
      "metadata": {
        "id": "8a6e343d",
        "colab": {
          "base_uri": "https://localhost:8080/"
        },
        "outputId": "6e1dfd1e-bdf3-42d5-daaa-e3e29344de98"
      },
      "outputs": [
        {
          "metadata": {
            "tags": null
          },
          "name": "stderr",
          "output_type": "stream",
          "text": [
            "WARNING:absl:Compiled the loaded model, but the compiled metrics have yet to be built. `model.compile_metrics` will be empty until you train or evaluate the model.\n"
          ]
        }
      ],
      "source": [
        "model = load_model('ImageCNN.h5')"
      ]
    },
    {
      "cell_type": "code",
      "execution_count": 44,
      "id": "4aba2fff",
      "metadata": {
        "id": "4aba2fff"
      },
      "outputs": [],
      "source": [
        "import cv2"
      ]
    },
    {
      "cell_type": "code",
      "execution_count": 45,
      "id": "410941c5",
      "metadata": {
        "id": "410941c5"
      },
      "outputs": [],
      "source": [
        "img_array = cv2.imread('/content/drive/MyDrive/test_project/1.tif',cv2.IMREAD_GRAYSCALE)\n",
        "new_array = cv2.resize(img_array,(250,230))"
      ]
    },
    {
      "cell_type": "code",
      "execution_count": 46,
      "id": "f5ca39b2",
      "metadata": {
        "id": "f5ca39b2"
      },
      "outputs": [],
      "source": [
        "t=new_array[:,0]"
      ]
    },
    {
      "cell_type": "code",
      "execution_count": 47,
      "id": "2d34c728",
      "metadata": {
        "id": "2d34c728",
        "colab": {
          "base_uri": "https://localhost:8080/"
        },
        "outputId": "df62cb6b-62bf-410b-a26e-efd4ca62bfc6"
      },
      "outputs": [
        {
          "data": {
            "text/plain": [
              "array([246, 247, 246, 250, 251, 252, 251, 254, 250, 255, 255, 255, 255,\n",
              "       255, 251, 255, 255, 255, 255, 255, 255, 254, 255, 255, 255, 253,\n",
              "       255, 254, 251, 250, 251, 250, 249, 253, 250, 250, 249, 249, 252,\n",
              "       249, 244, 247, 249, 251, 250, 248, 251, 247, 246, 255, 247, 248,\n",
              "       251, 249, 251, 251, 251, 253, 249, 254, 245, 248, 248, 247, 250,\n",
              "       245, 252, 248, 249, 255, 253, 246, 242, 249, 255, 254, 249, 251,\n",
              "       252, 249, 253, 252, 253, 251, 253, 253, 254, 253, 255, 255, 253,\n",
              "       255, 255, 255, 255, 253, 250, 255, 255, 255, 255, 255, 255, 255,\n",
              "       255, 253, 247, 255, 253, 254, 254, 255, 254, 254, 253, 253, 253,\n",
              "       253, 251, 254, 252, 254, 253, 253, 253, 254, 251, 255, 254, 254,\n",
              "       250, 253, 253, 253, 255, 253, 255, 254, 253, 255, 254, 254, 254,\n",
              "       254, 255, 255, 255, 255, 255, 255, 252, 252, 255, 255, 255, 255,\n",
              "       255, 255, 255, 255, 255, 255, 255, 255, 255, 252, 255, 253, 255,\n",
              "       254, 255, 255, 255, 255, 255, 255, 255, 255, 255, 255, 255, 255,\n",
              "       255, 255, 255, 255, 255, 255, 255, 255, 255, 255, 255, 255, 255,\n",
              "       255, 255, 255, 255, 255, 255, 255, 255, 255, 255, 255, 255, 253,\n",
              "       250, 255, 255, 253, 255, 255, 254, 255, 255, 255, 255, 253, 253,\n",
              "       250, 255, 255, 251, 254, 249, 250, 248, 244], dtype=uint8)"
            ]
          },
          "execution_count": 47,
          "metadata": {},
          "output_type": "execute_result"
        }
      ],
      "source": [
        "t"
      ]
    },
    {
      "cell_type": "code",
      "execution_count": null,
      "id": "5f88dcba",
      "metadata": {
        "id": "5f88dcba"
      },
      "outputs": [],
      "source": [
        "per = model.predict(new_array)"
      ]
    },
    {
      "cell_type": "code",
      "execution_count": null,
      "id": "bc3f4b47",
      "metadata": {
        "id": "bc3f4b47"
      },
      "outputs": [],
      "source": []
    }
  ],
  "metadata": {
    "kernelspec": {
      "display_name": "Python 3",
      "name": "python3"
    },
    "language_info": {
      "codemirror_mode": {
        "name": "ipython",
        "version": 3
      },
      "file_extension": ".py",
      "mimetype": "text/x-python",
      "name": "python",
      "nbconvert_exporter": "python",
      "pygments_lexer": "ipython3",
      "version": "3.10.12"
    },
    "colab": {
      "provenance": [],
      "gpuType": "T4",
      "include_colab_link": true
    },
    "accelerator": "GPU"
  },
  "nbformat": 4,
  "nbformat_minor": 5
}