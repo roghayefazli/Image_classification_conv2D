{
 "cells": [
  {
   "cell_type": "code",
   "execution_count": 1,
   "id": "eb4caa65",
   "metadata": {},
   "outputs": [],
   "source": [
    "import pytesseract\n",
    "from PIL import Image\n",
    "import cv2"
   ]
  },
  {
   "cell_type": "code",
   "execution_count": 2,
   "id": "bbc39267",
   "metadata": {},
   "outputs": [],
   "source": [
    "img = Image.open('new.tif')"
   ]
  },
  {
   "cell_type": "code",
   "execution_count": 3,
   "id": "93c8c4ae",
   "metadata": {},
   "outputs": [],
   "source": [
    "text = pytesseract.image_to_string(img)"
   ]
  },
  {
   "cell_type": "code",
   "execution_count": 4,
   "id": "09ef3d48",
   "metadata": {},
   "outputs": [
    {
     "data": {
      "text/plain": [
       "'LMAO - 0105 saves BB Bose 6G\\nWoinint sia yada head ee\\n\\n \\n\\neas She oe fowl\\noudigyy gai ojlyo\\nolay call a a et ob BUNS aE\\n\\noer at\\n\\n8 by SoS Bt\\n\\n \\n\\n \\n\\nSie Tbe oe a gd, iF aes olny aes Ge.\\nMig Silas Jorn) le 5 0S reed\\n\\nshed HS\\n\\x0c'"
      ]
     },
     "execution_count": 4,
     "metadata": {},
     "output_type": "execute_result"
    }
   ],
   "source": [
    "\n",
    "text"
   ]
  },
  {
   "cell_type": "code",
   "execution_count": 22,
   "id": "31c4d133",
   "metadata": {},
   "outputs": [
    {
     "name": "stdout",
     "output_type": "stream",
     "text": [
      "True\n"
     ]
    }
   ],
   "source": [
    "if \"NURSE'S NOTE SHEET\" in text:\n",
    "    print(True)\n",
    "else : \n",
    "    print(False)"
   ]
  },
  {
   "cell_type": "code",
   "execution_count": 13,
   "id": "bb920ab1",
   "metadata": {},
   "outputs": [],
   "source": [
    "   # Load the image using OpenCV\n",
    "image = cv2.imread('l1.jpg')\n",
    "   # Convert the image to grayscale\n",
    "gray_image = cv2.cvtColor(image, cv2.COLOR_BGR2GRAY)\n",
    "\n",
    "   # Use pytesseract to detect English text in the image\n",
    "custom_config = r'--oem 3 --psm 6 outputbase digits'\n",
    "text2 = pytesseract.image_to_string(gray_image, config=custom_config, lang='eng')"
   ]
  },
  {
   "cell_type": "code",
   "execution_count": 14,
   "id": "4c925980",
   "metadata": {},
   "outputs": [
    {
     "data": {
      "text/plain": [
       "'.5\\n0899-\\n.. 102 7 -\\n59\\n\\x0c'"
      ]
     },
     "execution_count": 14,
     "metadata": {},
     "output_type": "execute_result"
    }
   ],
   "source": [
    "text2"
   ]
  },
  {
   "cell_type": "code",
   "execution_count": null,
   "id": "a7775544",
   "metadata": {},
   "outputs": [],
   "source": []
  }
 ],
 "metadata": {
  "kernelspec": {
   "display_name": "Python 3 (ipykernel)",
   "language": "python",
   "name": "python3"
  },
  "language_info": {
   "codemirror_mode": {
    "name": "ipython",
    "version": 3
   },
   "file_extension": ".py",
   "mimetype": "text/x-python",
   "name": "python",
   "nbconvert_exporter": "python",
   "pygments_lexer": "ipython3",
   "version": "3.10.12"
  }
 },
 "nbformat": 4,
 "nbformat_minor": 5
}
